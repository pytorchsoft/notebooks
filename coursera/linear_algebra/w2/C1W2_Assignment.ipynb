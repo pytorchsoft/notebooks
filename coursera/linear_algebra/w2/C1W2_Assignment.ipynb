{
 "cells": [
  {
   "cell_type": "markdown",
   "metadata": {},
   "source": [
    "# Programming Assignment - Gaussian Elimination\n",
    "\n",
    "\n",
    "Welcome to the programming assignment on Gaussian Elimination! In this assignment, you will implement the Gaussian elimination method, a foundational algorithm for solving systems of linear equations.\n",
    "\n",
    "Linear algebra is fundamental to machine learning, serving as the basis for numerous algorithms. Gaussian elimination, while not the most advanced method used today, is a classical and essential technique for solving systems of linear equations. It provides valuable insights into the core principles of linear algebra and lays the groundwork for more advanced numerical methods.\n",
    "\n",
    "## Why should you care?\n",
    "\n",
    "- **Foundational Skills**: Strengthen your understanding of key linear algebra concepts.\n",
    "- **Programming Practice**: Enhance your coding skills by implementing a classical mathematical algorithm.\n",
    "- **Historical Significance**: Gaussian elimination, though not the most cutting-edge method today, is historically significant and provides a solid starting point for understanding the evolution of linear algebra techniques.\n",
    "\n",
    "\n",
    "\n",
    "\n",
    "# Outline\n",
    "- [ 1 - Introduction ](#1)\n",
    "  - [ 1.1 How to complete this assignment](#1.1)\n",
    "  - [ 1.2 Gaussian Elimination Algorithm](#1.2)\n",
    "- [ 2 - Necessary imports](#2)\n",
    "- [ 3 - Auxiliary functions](#3)\n",
    "  - [ 3.1 - Function swap rows](#3.1)\n",
    "  - [ 3.2 - Finding the first non-zero value in a column starting from a specific value](#3.2)\n",
    "  - [ 3.3 - Find the first non zero element for any row](#3.3)\n",
    "  - [ 3.4 Moving one row to the bottom](#3.4)\n",
    "  - [ 3.5 - Constructing the Augmented Matrix](#3.5)\n",
    "- [ 4 - Row echelon form](#4)\n",
    "  - [ 4.1 - Row Echelon Form](#4.1)\n",
    "  - [ 4.2 - A worked example ](#4.2)\n",
    "    - [ Exercise 1](#ex01)\n",
    "- [ 5 - Back substitution](#5)\n",
    "  - [ Exercise 2](#ex02)\n",
    "- [ 6 - The Gaussian Elimination](#6)\n",
    "  - [ 6.1 - Bringing it all together](#6.1)\n",
    "    - [ Exercise 3](#ex03)\n",
    "- [ 7 - Test with any system of equations!](#7)\n"
   ]
  },
  {
   "cell_type": "markdown",
   "metadata": {},
   "source": [
    "<a name=\"1\"></a>\n",
    "## 1 - Introduction \n",
    "\n",
    "\n",
    "<a name=\"1.1\"></a>\n",
    "### 1.1 How to complete this assignment\n",
    "\n",
    "This is the first assignment in the Math for Machine Learning and Data Science specialization! Let's quickly go over how it works.\n",
    "\n",
    "This assignment has $3$ graded functions. Each graded function will have some parts replaced as `None`. These parts you have to replace with the proper value. For instance, in the first graded function there is this line of code:\n",
    "\n",
    "```Python\n",
    "pivot_candidate = M[None, None]\n",
    "```\n",
    "\n",
    "This means that you must replace the correct values for the row (first None) and column (second None). Do not worry, the functions have comments on every line of code so you won't get lost! \n",
    "\n",
    "After each graded function, there is a code to test your solution. It will test your function with some basic and quick tests to assure you are in the right path! **Note that these tests perform only basic tests, so you may pass in the unit tests but fail when submitting your code.** This is because when grading we perform more complex tests. However, in any case you will be provided with feedbacks so it will help you debugging your code.\n",
    "\n",
    "<a name=\"1.2\"></a>\n",
    "### 1.2 Gaussian Elimination Algorithm\n",
    "\n",
    "Gaussian elimination offers a systematic approach to solving systems of linear equations by transforming an augmented matrix into row-echelon form, thereby enabling the determination of variables. The algorithm comprises several essential steps:\n",
    "\n",
    "**NOTE**: \n",
    "\n",
    "- For simplicity, the algorithm you will develop here will only work on **non-singular** systems of equations, i.e., equations that have a unique solution.\n",
    "- Remember you can check if a matrix is singular or not by computing its determinant.\n",
    "\n",
    "### Step 1: Augmented Matrix\n",
    "\n",
    "Consider a system of linear equations:\n",
    "\n",
    "$$\n",
    "\\begin{align*}\n",
    "2x_1 + 3x_2 + 5x_3&= 12 \\\\\n",
    "-3x_1 - 2x_2 + 4x_3 &= -2 \\\\\n",
    "x_1 + x_2 - 2x_3  &= 8 \\\\\n",
    "\n",
    "\\end{align*}\n",
    "$$\n",
    "Create the augmented matrix \\([A | B]\\), where \\(A\\) represents the coefficient matrix and \\(B\\) denotes the column vector of constants:\n",
    "\n",
    "$$\n",
    "A = \\begin{bmatrix}\n",
    "\\phantom{-}2 & \\phantom{-}3 & \\phantom{-}5  \\\\\n",
    "-3 & -2 & \\phantom-4 \\\\\n",
    "\\phantom{-}1 & \\phantom{-}1 & -2  \\\\\n",
    "\\end{bmatrix}\n",
    "$$\n",
    "\n",
    "$$\n",
    "B = \\begin{bmatrix}\n",
    "\\phantom-12 \\\\ -2 \\\\ \\phantom-8 \n",
    "\\end{bmatrix}\n",
    "$$\n",
    "\n",
    "Thus, \\([A | B]\\) is represented as:\n",
    "\n",
    "$$\n",
    "\\begin{bmatrix}\n",
    "\\phantom{-}2 & \\phantom{-}3 & \\phantom{-}5 & | & \\phantom{-}12 \\\\\n",
    "-3 & -2 & \\phantom-4 & | & -2 \\\\\n",
    "\\phantom{-}1 & \\phantom{-}1 & -2 & | & \\phantom{-}8 \\\\\n",
    "\\end{bmatrix}\n",
    "$$\n",
    "\n",
    "Note: For this assignment, matrix \\(A\\) is **always square**, accommodating scenarios with \\(n\\) equations and \\(n\\) variables.\n",
    "\n",
    "### Step 2: Transform Matrix into Row Echelon Form\n",
    "Initiate row operations to convert the augmented matrix into row-echelon form. The objective is to introduce zeros below the leading diagonal.\n",
    "\n",
    "- **Row Switching:** Rearrange rows to position the leftmost non-zero entry at the top.\n",
    "- **Row Scaling:** Multiply a row by a non-zero scalar.\n",
    "- **Row Replacement:** Substitute a row with the sum of itself and a multiple of another row.\n",
    "\n",
    "### Step 3: Back Substitution\n",
    "\n",
    "After attaining the row-echelon form, solve for variables starting from the last row and progressing upwards.\n",
    "\n",
    "Remember, the aim is to simplify the system for easy determination of solutions!\n",
    "\n",
    "### Step 4: Compile the Gaussian Elimination Algorithm\n",
    "\n",
    "Combine each function related to the aforementioned steps into a single comprehensive function."
   ]
  },
  {
   "cell_type": "markdown",
   "metadata": {},
   "source": [
    "<a name=\"2\"></a>\n",
    "## 2 - Necessary imports\n",
    "\n",
    "Next codeblock will import the necessary libraries to run this assignment. Please do not add nor remove any value there."
   ]
  },
  {
   "cell_type": "code",
   "execution_count": 1,
   "metadata": {
    "tags": [
     "graded"
    ]
   },
   "outputs": [],
   "source": [
    "import numpy as np"
   ]
  },
  {
   "cell_type": "code",
   "execution_count": 2,
   "metadata": {},
   "outputs": [],
   "source": [
    "import w2_unittest"
   ]
  },
  {
   "cell_type": "markdown",
   "metadata": {},
   "source": [
    "<a name=\"3\"></a>\n",
    "## 3 - Auxiliary functions\n",
    "\n",
    "This section introduces three auxiliary functions crucial for facilitating your assignment. These functions have already been coded, eliminating the need for your concern regarding their implementation. However, it's essential to examine them carefully to grasp their appropriate usage.\n",
    "\n",
    "**Note: In Python, indices commence at $0$ rather than $1$. Therefore, a matrix with $n$ rows is indexed as $0, 1, 2, \\ldots, n-1$.**\n"
   ]
  },
  {
   "cell_type": "markdown",
   "metadata": {},
   "source": [
    "<a name=\"3.1\"></a>\n",
    "### 3.1 - Function swap rows\n",
    "\n",
    "This function has as input a [numpy array](https://numpy.org/doc/stable/reference/generated/numpy.array.html) and two indexes to swap the rows corresponding to those indexes. It **does not change the original matrix**, but returns a new one."
   ]
  },
  {
   "cell_type": "code",
   "execution_count": 3,
   "metadata": {
    "tags": [
     "graded"
    ]
   },
   "outputs": [],
   "source": [
    "def swap_rows(M, row_index_1, row_index_2):\n",
    "    \"\"\"\n",
    "    Swap rows in the given matrix.\n",
    "\n",
    "    Parameters:\n",
    "    - matrix (numpy.array): The input matrix to perform row swaps on.\n",
    "    - row_index_1 (int): Index of the first row to be swapped.\n",
    "    - row_index_2 (int): Index of the second row to be swapped.\n",
    "    \"\"\"\n",
    "\n",
    "    # Copy matrix M so the changes do not affect the original matrix. \n",
    "    M = M.copy()\n",
    "    # Swap indexes\n",
    "    M[[row_index_1, row_index_2]] = M[[row_index_2, row_index_1]]\n",
    "    return M"
   ]
  },
  {
   "cell_type": "markdown",
   "metadata": {},
   "source": [
    "Let's practice with some examples. Consider the following matrix $M$."
   ]
  },
  {
   "cell_type": "code",
   "execution_count": 4,
   "metadata": {},
   "outputs": [
    {
     "name": "stdout",
     "output_type": "stream",
     "text": [
      "[[ 1  3  6]\n",
      " [ 0 -5  2]\n",
      " [-4  5  8]]\n"
     ]
    }
   ],
   "source": [
    "M = np.array([\n",
    "[1, 3, 6],\n",
    "[0, -5, 2],\n",
    "[-4, 5, 8]\n",
    "])\n",
    "print(M)"
   ]
  },
  {
   "cell_type": "markdown",
   "metadata": {},
   "source": [
    "Swapping row $0$ with row $2$:"
   ]
  },
  {
   "cell_type": "code",
   "execution_count": 5,
   "metadata": {},
   "outputs": [
    {
     "name": "stdout",
     "output_type": "stream",
     "text": [
      "[[-4  5  8]\n",
      " [ 0 -5  2]\n",
      " [ 1  3  6]]\n"
     ]
    }
   ],
   "source": [
    "M_swapped = swap_rows(M, 0, 2)\n",
    "print(M_swapped)"
   ]
  },
  {
   "cell_type": "markdown",
   "metadata": {},
   "source": [
    "<a name=\"3.2\"></a>\n",
    "### 3.2 - Finding the first non-zero value in a column starting from a specific value\n",
    "\n",
    "This function becomes essential when encountering a $0$ value during row operations. It determines whether a non-zero value exists below the encountered zero, allowing for potential row swaps. Consider the following scenario within a square matrix (non-augmented):\n",
    "\n",
    "Let's say, during a specific step of the row-echelon form process, you've successfully reduced the first 2 rows, but you encounter a zero pivot (highlighted in red) in the third row. The task is to search, **solely in entries below the pivot**, for a potential row swap.\n",
    "\n",
    "$$\n",
    "\\begin{bmatrix}\n",
    "6 & 4 & 8 & 1 \\\\\n",
    "0 & 8 & 6 & 4 \\\\\n",
    "\\color{darkred}0 & \\color{darkred}0 & \\color{red}0 & \\color{darkred}3 \\\\\n",
    "0 & 0 & 5 & 9 \n",
    "\\end{bmatrix}\n",
    "$$\n",
    "\n",
    "Performing a row swap between indexes 2 and 3 (remember, indexing starts at 0!), the matrix transforms into:\n",
    "\n",
    "$$\n",
    "\\begin{bmatrix}\n",
    "6 & 4 & 8 & 1 \\\\\n",
    "0 & 8 & 6 & 4 \\\\\n",
    "0 & 0 & 5 & 9  \\\\\n",
    "0 & 0 & 0 & 3 \n",
    "\\end{bmatrix}\n",
    "$$\n",
    "\n",
    "Resulting in the matrix achieving the row-echelon form."
   ]
  },
  {
   "cell_type": "code",
   "execution_count": 6,
   "metadata": {
    "tags": [
     "graded"
    ]
   },
   "outputs": [],
   "source": [
    "def get_index_first_non_zero_value_from_column(M, column, starting_row):\n",
    "    \"\"\"\n",
    "    Retrieve the index of the first non-zero value in a specified column of the given matrix.\n",
    "\n",
    "    Parameters:\n",
    "    - matrix (numpy.array): The input matrix to search for non-zero values.\n",
    "    - column (int): The index of the column to search.\n",
    "    - starting_row (int): The starting row index for the search.\n",
    "\n",
    "    Returns:\n",
    "    int: The index of the first non-zero value in the specified column, starting from the given row.\n",
    "                Returns -1 if no non-zero value is found.\n",
    "    \"\"\"\n",
    "    # Get the column array starting from the specified row\n",
    "    column_array = M[starting_row:,column]\n",
    "    for i, val in enumerate(column_array):\n",
    "        # Iterate over every value in the column array. \n",
    "        # To check for non-zero values, you must always use np.isclose instead of doing \"val == 0\".\n",
    "        if not np.isclose(val, 0, atol = 1e-5):\n",
    "            # If one non zero value is found, then adjust the index to match the correct index in the matrix and return it.\n",
    "            index = i + starting_row\n",
    "            return index\n",
    "    # If no non-zero value is found below it, return -1.\n",
    "    return -1"
   ]
  },
  {
   "cell_type": "markdown",
   "metadata": {},
   "source": [
    "Let's practice with this function. Consider the following matrix."
   ]
  },
  {
   "cell_type": "code",
   "execution_count": 7,
   "metadata": {},
   "outputs": [
    {
     "name": "stdout",
     "output_type": "stream",
     "text": [
      "[[ 0  5 -3  6  8]\n",
      " [ 0  6  3  8  1]\n",
      " [ 0  0  0  0  0]\n",
      " [ 0  0  0  0  7]\n",
      " [ 0  2  1  0  4]]\n"
     ]
    }
   ],
   "source": [
    "N = np.array([\n",
    "[0, 5, -3 ,6 ,8],\n",
    "[0, 6, 3, 8, 1],\n",
    "[0, 0, 0, 0, 0],\n",
    "[0, 0, 0 ,0 ,7],\n",
    "[0, 2, 1, 0, 4]\n",
    "]\n",
    ")\n",
    "print(N)"
   ]
  },
  {
   "cell_type": "markdown",
   "metadata": {},
   "source": [
    "If you search for a value below the first column starting at the first row, the function should return -1:"
   ]
  },
  {
   "cell_type": "code",
   "execution_count": 8,
   "metadata": {},
   "outputs": [
    {
     "name": "stdout",
     "output_type": "stream",
     "text": [
      "-1\n"
     ]
    }
   ],
   "source": [
    "print(get_index_first_non_zero_value_from_column(N, column = 0, starting_row = 0))"
   ]
  },
  {
   "cell_type": "markdown",
   "metadata": {},
   "source": [
    "Searching for the first non zero value in the last column starting from row with index 2, it should return 3 (index corresponding to the value 7)."
   ]
  },
  {
   "cell_type": "code",
   "execution_count": 9,
   "metadata": {},
   "outputs": [
    {
     "name": "stdout",
     "output_type": "stream",
     "text": [
      "3\n"
     ]
    }
   ],
   "source": [
    "print(get_index_first_non_zero_value_from_column(N, column = -1, starting_row = 2))"
   ]
  },
  {
   "cell_type": "markdown",
   "metadata": {},
   "source": [
    "<a name=\"3.3\"></a>\n",
    "### 3.3 - Find the first non zero element for any row\n",
    "\n",
    "This function aids in locating the pivot within a designated row of a matrix. It identifies the index of the first non-zero element in the desired row. If no non-zero value is present, it returns -1."
   ]
  },
  {
   "cell_type": "code",
   "execution_count": 10,
   "metadata": {
    "tags": [
     "graded"
    ]
   },
   "outputs": [],
   "source": [
    "def get_index_first_non_zero_value_from_row(M, row, augmented = False):\n",
    "    \"\"\"\n",
    "    Find the index of the first non-zero value in the specified row of the given matrix.\n",
    "\n",
    "    Parameters:\n",
    "    - matrix (numpy.array): The input matrix to search for non-zero values.\n",
    "    - row (int): The index of the row to search.\n",
    "    - augmented (bool): Pass this True if you are dealing with an augmented matrix, \n",
    "                        so it will ignore the constant values (the last column in the augmented matrix).\n",
    "\n",
    "    Returns:\n",
    "    int: The index of the first non-zero value in the specified row.\n",
    "                Returns -1 if no non-zero value is found.\n",
    "    \"\"\"\n",
    "\n",
    "    # Create a copy to avoid modifying the original matrix\n",
    "    M = M.copy()\n",
    "\n",
    "\n",
    "    # If it is an augmented matrix, then ignore the constant values\n",
    "    if augmented == True:\n",
    "        # Isolating the coefficient matrix (removing the constant terms)\n",
    "        M = M[:,:-1]\n",
    "        \n",
    "    # Get the desired row\n",
    "    row_array = M[row]\n",
    "    for i, val in enumerate(row_array):\n",
    "        # If finds a non zero value, returns the index. Otherwise returns -1.\n",
    "        if not np.isclose(val, 0, atol = 1e-5):\n",
    "            return i\n",
    "    return -1"
   ]
  },
  {
   "cell_type": "markdown",
   "metadata": {},
   "source": [
    "Let's practice with the same matrix as before:"
   ]
  },
  {
   "cell_type": "code",
   "execution_count": 11,
   "metadata": {},
   "outputs": [
    {
     "name": "stdout",
     "output_type": "stream",
     "text": [
      "[[ 0  5 -3  6  8]\n",
      " [ 0  6  3  8  1]\n",
      " [ 0  0  0  0  0]\n",
      " [ 0  0  0  0  7]\n",
      " [ 0  2  1  0  4]]\n"
     ]
    }
   ],
   "source": [
    "print(N)"
   ]
  },
  {
   "cell_type": "markdown",
   "metadata": {},
   "source": [
    "If not passing the argument `augmented`, then it is assumed the matrix is not augmented. \n",
    "\n",
    "Looking for the first non-zero index in row $2$ must return -1 whereas in row $3$, the value returned must be $4$ (the index for the value $7$ in that row). "
   ]
  },
  {
   "cell_type": "code",
   "execution_count": 12,
   "metadata": {},
   "outputs": [
    {
     "name": "stdout",
     "output_type": "stream",
     "text": [
      "Output for row 2: -1\n",
      "Output for row 3: 4\n"
     ]
    }
   ],
   "source": [
    "print(f'Output for row 2: {get_index_first_non_zero_value_from_row(N, 2)}')\n",
    "print(f'Output for row 3: {get_index_first_non_zero_value_from_row(N, 3)}')"
   ]
  },
  {
   "cell_type": "markdown",
   "metadata": {},
   "source": [
    "Now, let's pass the argument `augmented = True`. This will make the algorithm consider $N$ an augmented matrix, therefore the last column will be removed from consideration. Now, the output for row 3 (starting from 0) should be different, excluding the last column, the output should be `-1` as well, since in the coefficient matrix (the matrix without the last column) there is no non-zero element:"
   ]
  },
  {
   "cell_type": "code",
   "execution_count": 13,
   "metadata": {},
   "outputs": [
    {
     "name": "stdout",
     "output_type": "stream",
     "text": [
      "Output for row 3: -1\n"
     ]
    }
   ],
   "source": [
    "print(f'Output for row 3: {get_index_first_non_zero_value_from_row(N, 3, augmented = True)}')"
   ]
  },
  {
   "cell_type": "markdown",
   "metadata": {},
   "source": [
    "<a name=\"3.5\"></a>\n",
    "### 3.4 - Constructing the Augmented Matrix\n",
    "\n",
    "This function constructs the augmented matrix by combining a square matrix of size $n \\times n$, representing $n$ equations with $n$ variables each, with an $n \\times 1$ matrix that denotes its constant values. The function concatenates both matrices to form the augmented matrix and returns the result."
   ]
  },
  {
   "cell_type": "code",
   "execution_count": 14,
   "metadata": {
    "tags": [
     "graded"
    ]
   },
   "outputs": [],
   "source": [
    "def augmented_matrix(A, B):\n",
    "    \"\"\"\n",
    "    Create an augmented matrix by horizontally stacking two matrices A and B.\n",
    "\n",
    "    Parameters:\n",
    "    - A (numpy.array): First matrix.\n",
    "    - B (numpy.array): Second matrix.\n",
    "\n",
    "    Returns:\n",
    "    - numpy.array: Augmented matrix obtained by horizontally stacking A and B.\n",
    "    \"\"\"\n",
    "    augmented_M = np.hstack((A,B))\n",
    "    return augmented_M"
   ]
  },
  {
   "cell_type": "code",
   "execution_count": 15,
   "metadata": {},
   "outputs": [
    {
     "name": "stdout",
     "output_type": "stream",
     "text": [
      "[[1 2 3 1]\n",
      " [3 4 5 5]\n",
      " [4 5 6 7]]\n"
     ]
    }
   ],
   "source": [
    "A = np.array([[1,2,3], [3,4,5], [4,5,6]])\n",
    "B = np.array([[1], [5], [7]])\n",
    "\n",
    "print(augmented_matrix(A,B))"
   ]
  },
  {
   "cell_type": "markdown",
   "metadata": {},
   "source": [
    "<a name=\"4\"></a>\n",
    "## 4 - Row echelon form\n",
    "\n",
    "<a name=\"4.1\"></a>\n",
    "\n",
    "<a name=\"4.1\"></a>\n",
    "### 4.1 - Row Echelon Form\n",
    "\n",
    "As discussed in the lectures, a matrix in row echelon form adheres to the following conditions:\n",
    "\n",
    "- Rows consisting entirely of zeroes should be positioned at the bottom.\n",
    "- Each non-zero row must have its left-most non-zero coefficient (termed as a **pivot**) located to the right of any row above it. Consequently, all elements below the pivot within the same column should be 0.\n",
    "\n",
    "\n",
    "**NOTE:**\n",
    "\n",
    "- The algorithm you will build will consider only non-singular system of equations, this implies that the coefficient matrix must have determinant different from $0$. Also, it implies one very important property: **the matrix's row echelon form will have all its pivots in the main diagonal**. This is an important property because it will significantly simplify the computation.\n",
    "\n",
    "\n",
    "This form ensures a structured arrangement facilitating subsequent steps in the Gaussian elimination process.\n",
    "\n",
    "\n",
    "Example of matrix **in row echelon form**\n",
    "\n",
    "$$M =\n",
    "\\begin{bmatrix}\n",
    "7 & 2 & 3 \\\\\n",
    "0 & 9 & 4 \\\\\n",
    "0 & 0 & 3 \\\\\n",
    "\\end{bmatrix}\n",
    "$$\n",
    "\n",
    "Examples of matrices that **are not in row echelon form**\n",
    "\n",
    "$$\n",
    "A = \\begin{bmatrix}\n",
    "1 & 2 & 2 \\\\\n",
    "0 & 5 & 3 \\\\\n",
    "1 & 0 & 8 \\\\\n",
    "\\end{bmatrix}\n",
    "$$\n",
    "\n",
    "$$B = \n",
    "\\begin{bmatrix}\n",
    "1 & 2 & 3 \\\\\n",
    "0 & 0 & 4 \\\\\n",
    "0 & 0 & 7 \\\\\n",
    "\\end{bmatrix}\n",
    "$$\n",
    "\n",
    "Matrix $A$ fails to satisfy the criteria for row echelon form as there exists a non-zero element below the first pivot (located in row 0). Similarly, matrix $B$ does not meet the requirements as the second pivot (in row 1 with a value of 4) has a non-zero element below it."
   ]
  },
  {
   "cell_type": "markdown",
   "metadata": {},
   "source": [
    "<a name=\"4.2\"></a>\n",
    "### 4.2 - A worked example \n",
    "\n",
    "In this section, you'll revisit an example from the lecture to facilitate the implementation of an algorithm. If you feel confident in proceeding with the algorithm, you may skip this section.\n",
    "\n",
    "Consider matrix $M$ given by:\n",
    "\n",
    "$$\n",
    "M = \n",
    "\\begin{bmatrix} \n",
    "* & * & * & \\\\\n",
    "0 & \\text{pivot} & * \\\\\n",
    "0 & \\text{value} & * \n",
    "\\end{bmatrix}\n",
    "$$\n",
    "\n",
    "Here, the asterisk (*) denotes any number. To nullify the last row (row $2$), two steps are required:\n",
    "\n",
    "- Scale $R_1$ by the inverse of the pivot:\n",
    "\n",
    "$$\n",
    "\\text{Row 1} \\rightarrow \\frac{1}{\\text{pivot}} \\cdot \\text{Row } \n",
    "$$\n",
    "\n",
    "Resulting in the updated matrix with the pivot for row $1$ set to $1$:\n",
    "\n",
    "$$\n",
    "M = \n",
    "\\begin{bmatrix} \n",
    "* & * & * & \\\\\n",
    "0 & 1 & * \\\\\n",
    "0 & \\text{value} & * \n",
    "\\end{bmatrix}\n",
    "$$\n",
    "\n",
    "Next, to eliminate the value below the pivot in row $1$, apply the following formula:\n",
    "\n",
    "$$\n",
    "\\text{Row 2} \\rightarrow \\text{Row 2} - \\text{value}\\cdot \\text{Row 1}\n",
    "$$\n",
    "\n",
    "This transformation yields the modified matrix:\n",
    "\n",
    "$$\n",
    "M = \n",
    "\\begin{bmatrix} \n",
    "* & * & * & \\\\\n",
    "0 & 1 & * \\\\\n",
    "0 & 0 & * \n",
    "\\end{bmatrix}\n",
    "$$"
   ]
  },
  {
   "cell_type": "markdown",
   "metadata": {},
   "source": [
    "**Note that the square matrix $A$ needs to be in row-echelon form. However, every row operation conducted must also affect the augmented (constant) part. This ensures that you are effectively preserving the solutions for the entire system!** "
   ]
  },
  {
   "cell_type": "markdown",
   "metadata": {},
   "source": [
    "Consider the following system of equations:\n",
    "\n",
    "\n",
    "$$\n",
    "\\begin{align*}\n",
    "2x_2 + x_3 &= 3 \\\\\n",
    "x_1 + x_2 +x_3 &= 6 \\\\\n",
    "x_1 + 2x_2 + 1x_3 &= 12\n",
    "\\end{align*}\n",
    "$$\n",
    "\n",
    "Consequently, the square matrix $A$ is formulated as:\n",
    "\n",
    "$$\n",
    "A = \n",
    "\\begin{bmatrix} \n",
    "0 & 2 & 1 & \\\\\n",
    "1 & 1 & 1 & \\\\\n",
    "1 & 2 & 1 & \n",
    "\\end{bmatrix}\n",
    "$$\n",
    "\n",
    "The column vector (a matrix of size $n \\times 1$) is represented by:\n",
    "\n",
    "$$\n",
    "B = \n",
    "\\begin{bmatrix} \n",
    "3\\\\\n",
    "6\\\\\n",
    "12\n",
    "\\end{bmatrix}\n",
    "$$\n",
    "\n",
    "Combining matrices $A$ and $B$ yields the augmented matrix $M$:\n",
    "\n",
    "$$\n",
    "M = \n",
    "\\begin{bmatrix} \n",
    "0 & 2 & 1 & | & 3 \\\\\n",
    "1 & 1 & 1 & | & 6 \\\\\n",
    "1 & 2 & 1 & | & 12 \n",
    "\\end{bmatrix}\n",
    "$$"
   ]
  },
  {
   "cell_type": "markdown",
   "metadata": {},
   "source": [
    "**Step 1:**\n",
    "\n",
    "Commencing with row $0$: The initial candidate for the pivot is always the value in the main diagonal of the matrix. Denoting row $0$ as $R_0$:\n",
    "\n",
    "$$R_0= \\begin{bmatrix} 0 & 2 & 1 & | & 3 \\end{bmatrix}$$\n",
    "\n",
    "The value in the main diagonal is the element $M[0,0]$ (the first element of the first column). The first row can be accessed by performing $M[0]$, i.e., $M[0] = R_0$.\n",
    "\n",
    "The first row operation involves **scaling by the pivot's inverse**. Since the value in the main diagonal is $0$, necessitating a non-zero value for scaling by its inverse, you must switch rows in this case. Note that $R_1$ has a value different from $0$ in the required index. Consequently, switching rows $0$ and $1$:\n",
    "\n",
    "$$R_0 \\rightarrow R_1$$\n",
    "$$R_1 \\rightarrow R_0$$\n",
    "\n",
    "Resulting in the updated augmented matrix:\n",
    "\n",
    "$$\n",
    "M = \n",
    "\\begin{bmatrix} \n",
    "1 & 1 & 1 & | & 6 \\\\\n",
    "0 & 2 & 1 & | & 3 \\\\\n",
    "1 & 2 & 1 & | & 12 \n",
    "\\end{bmatrix}\n",
    "$$\n",
    "\n",
    "Now, the pivot is already $1$, eliminating the need for row scaling. Following the formula:\n",
    "\n",
    "$$ R_1 \\rightarrow  R_1 - 0 \\cdot R_0 = R_1$$\n",
    "\n",
    "Therefore, the second row remains unchanged. Moving to the third row ($R_2$), the value in the augmented matrix below the pivot from $R_0$ is $M[2,0]$, which is $1$.\n",
    "\n",
    "$$R_2 = R_2 - 1 \\cdot R_0 = \\begin{bmatrix} 0 & 1 & 0 & | & 6  \\end{bmatrix}$$\n",
    "\n",
    "Resulting in the modified augmented matrix:\n",
    "\n",
    "$$\n",
    "M = \n",
    "\\begin{bmatrix} \n",
    "1 & 1 & 1 & | & 6 \\\\\n",
    "0 & 2 & 1 & | & 3 \\\\\n",
    "0 & 1 & 0 & | & 6\n",
    "\\end{bmatrix}\n",
    "$$\n",
    "\n",
    "Progressing to the second row ($R_1$), the value in the main diagonal is $2$, different from zero. Scaling it by $\\frac{1}{2}$:\n",
    "\n",
    "$$R_1 = \\frac{1}{2}R_1$$\n",
    "\n",
    "Resulting in the augmented matrix:\n",
    "\n",
    "$$\n",
    "M = \n",
    "\\begin{bmatrix} \n",
    "1 & 1 & 1 & | & 6 \\\\\n",
    "0 & 1 & \\frac{1}{2} & | & \\frac{3}{2} \\\\\n",
    "0 & 1 & 0 & | & 6\n",
    "\\end{bmatrix}\n",
    "$$\n",
    "\n",
    "Now, there's only one row below it for row replacement. The value just below the pivot is located at $M[2,1]$, which is $1$. Thus:\n",
    "\n",
    "$$R_2 = R_2 - 1 \\cdot R_1 = \\begin{bmatrix} \\phantom{-}0 & \\phantom{-}0 & -\\frac{1}{2} & | & \\phantom{-}\\frac{9}{2} \\end{bmatrix} $$\n",
    "\n",
    "Resulting in the augmented matrix:\n",
    "\n",
    "\n",
    "$$\n",
    "M = \n",
    "\\begin{bmatrix} \n",
    "\\phantom{-}1 & \\phantom{-}1 & \\phantom{-}1 & | & \\phantom{-}6 \\\\\n",
    "\\phantom{-}0 & \\phantom{-}1 & \\phantom{-}\\frac{1}{2} & | & \\phantom{-}\\frac{3}{2} \\\\\n",
    "\\phantom{-}0 & \\phantom{-}0 & -\\frac{1}{2} & | & \\phantom{-}\\frac{9}{2} \n",
    "\\end{bmatrix}\n",
    "$$\n",
    "\n",
    "Finally, normalizing the last row as\n",
    "\n",
    "$$R_2 = -2 \\cdot R_2$$\n",
    "\n",
    "The resulting matrix is\n",
    "\n",
    "$$\n",
    "M = \n",
    "\\begin{bmatrix} \n",
    "\\phantom{-}1 & \\phantom{-}1 & \\phantom{-}1 & | & \\phantom{-}6 \\\\\n",
    "\\phantom{-}0 & \\phantom{-}1 & \\phantom{-}\\frac{1}{2} & | & \\phantom{-}\\frac{3}{2} \\\\\n",
    "\\phantom{-}0 & \\phantom{-}0 & \\phantom{-}1 & | & -9 \n",
    "\\end{bmatrix}\n",
    "$$\n",
    "\n",
    "Thus, the matrix is now in row echelon form with unitary pivots."
   ]
  },
  {
   "cell_type": "markdown",
   "metadata": {},
   "source": [
    "Now you are ready to go! You will implement such algorithm in the following exercise.\n",
    "\n",
    "<a name=\"ex01\"></a>\n",
    "### Exercise 1\n",
    "\n",
    "This exercise involves implementing the elimination method to convert a matrix into row-echelon form. As discussed in lectures, the primary approach involves inspecting the values along the diagonal. If they equate to $0$, an attempt to swap rows should be made to obtain a non-zero value.\n"
   ]
  },
  {
   "cell_type": "code",
   "execution_count": 16,
   "metadata": {
    "tags": [
     "graded"
    ]
   },
   "outputs": [],
   "source": [
    "# GRADED FUNCTION: row_echelon_form\n",
    "\n",
    "def row_echelon_form(A, B):\n",
    "    \"\"\"\n",
    "    Utilizes elementary row operations to transform a given set of matrices, \n",
    "    which represent the coefficients and constant terms of a linear system, into row echelon form.\n",
    "\n",
    "    Parameters:\n",
    "    - A (numpy.array): The input square matrix of coefficients.\n",
    "    - B (numpy.array): The input column matrix of constant terms\n",
    "\n",
    "    Returns:\n",
    "    numpy.array: A new augmented matrix in row echelon form with pivots as 1.\n",
    "    \"\"\"\n",
    "    \n",
    "    # Before any computation, check if matrix A (coefficient matrix) has non-zero determinant. \n",
    "    # It will be used the numpy sub library np.linalg to compute it.\n",
    "\n",
    "    det_A = np.linalg.det(A)\n",
    "\n",
    "    # Returns \"Singular system\" if determinant is zero\n",
    "    if np.isclose(det_A, 0) == True:\n",
    "        return 'Singular system'\n",
    "\n",
    "    # Make copies of the input matrices to avoid modifying the originals\n",
    "    A = A.copy()\n",
    "    B = B.copy()\n",
    "\n",
    "\n",
    "    # Convert matrices to float to prevent integer division\n",
    "    A = A.astype('float64')\n",
    "    B = B.astype('float64')\n",
    "\n",
    "    # Number of rows in the coefficient matrix\n",
    "    num_rows = len(A) \n",
    "\n",
    "    ### START CODE HERE ###\n",
    "\n",
    "    # Transform matrices A and B into the augmented matrix M\n",
    "    M = augmented_matrix(A,B)\n",
    "    \n",
    "    # Iterate over the rows.\n",
    "    for row in range(num_rows):\n",
    "\n",
    "        # The first pivot candidate is always in the main diagonal, let's get it. \n",
    "        # Remember that the diagonal elements in a matrix has the same index for row and column. \n",
    "        # You may access a matrix value by typing M[row, column]. In this case, column = None\n",
    "        pivot_candidate = M[row, row]\n",
    "\n",
    "        # If pivot_candidate is zero, it cannot be a pivot for this row. \n",
    "        # So the first step you need to take is to look at the rows below it to check if there is a non-zero element in the same column.\n",
    "        # The usage of np.isclose is a good practice when comparing two floats.\n",
    "        if np.isclose(pivot_candidate, 0) == True: \n",
    "            # Get the index of the first non-zero value below the pivot_candidate. \n",
    "            first_non_zero_value_below_pivot_candidate = get_index_first_non_zero_value_from_column(M, row, row) \n",
    "\n",
    "            # Swap rows\n",
    "            M = swap_rows(M, row, first_non_zero_value_below_pivot_candidate) \n",
    "\n",
    "            # Get the pivot, which is in the main diagonal now \n",
    "            pivot = M[row,row] \n",
    "        \n",
    "        # If pivot_candidate is already non-zero, then it is the pivot for this row\n",
    "        else:\n",
    "            pivot = pivot_candidate \n",
    "        \n",
    "        # Now you are ready to apply the row reduction in every row below the current\n",
    "            \n",
    "        # Divide the current row by the pivot, so the new pivot will be 1. You may use the formula current_row -> 1/pivot * current_row\n",
    "        # Where current_row can be accessed using M[row].\n",
    "        M[row] = M[row] / pivot\n",
    "\n",
    "        # Perform row reduction for rows below the current row\n",
    "        for j in range(row + 1, num_rows): \n",
    "            # Get the value in the row that is below the pivot value. \n",
    "            # Remember that, since you are dealing only with non-singular matrices, the pivot is in the main diagonal.\n",
    "            # Therefore, the values in row j that are below the pivot, must have column index the same index as the column index for the pivot.\n",
    "            value_below_pivot = M[j,row]\n",
    "            \n",
    "            # Perform row reduction using the formula:\n",
    "            # row_to_reduce -> row_to_reduce - value_below_pivot * pivot_row\n",
    "            M[j] = M[j] - value_below_pivot*M[row]\n",
    "            \n",
    "    ### END CODE HERE ###\n",
    "\n",
    "    return M\n"
   ]
  },
  {
   "cell_type": "code",
   "execution_count": 17,
   "metadata": {},
   "outputs": [
    {
     "data": {
      "text/plain": [
       "array([[1. , 2. , 3. , 1. ],\n",
       "       [0. , 1. , 0. , 2. ],\n",
       "       [0. , 0. , 1. , 0.8]])"
      ]
     },
     "execution_count": 17,
     "metadata": {},
     "output_type": "execute_result"
    }
   ],
   "source": [
    "A = np.array([[1,2,3],[0,1,0], [0,0,5]])\n",
    "B = np.array([[1], [2], [4]])\n",
    "row_echelon_form(A,B)"
   ]
  },
  {
   "cell_type": "code",
   "execution_count": 18,
   "metadata": {},
   "outputs": [
    {
     "name": "stdout",
     "output_type": "stream",
     "text": [
      "\u001b[92m All tests passed\n"
     ]
    }
   ],
   "source": [
    "w2_unittest.test_row_echelon_form(row_echelon_form)"
   ]
  },
  {
   "cell_type": "markdown",
   "metadata": {},
   "source": [
    "<a name=\"5\"></a>\n",
    "## 5 - Back substitution\n",
    "\n",
    "The final step of the algorithm involves back substitution, a crucial process in obtaining solutions for the linear system. As discussed in the lectures, this method initiates from the bottom and moves upwards. Utilizing elementary row operations, it aims to convert every element above the pivot into zeros, ending with a matrix in **reduced row echelon form**. The formula employed is:\n",
    "\n",
    "\n",
    "$$\\text{Row above} \\rightarrow \\text{Row above} - \\text{value} \\cdot \\text{Row pivot}$$\n",
    "\n",
    "In this equation, $\\text{value}$ denotes the value above the pivot, which initially equals 1. To illustrate this process, let's consider the following matrix:"
   ]
  },
  {
   "cell_type": "markdown",
   "metadata": {},
   "source": [
    "$$\n",
    "M = \n",
    "\\begin{bmatrix} \n",
    "\\phantom{-}1 & -1 & \\phantom{-}\\frac{1}{2} & | & \\phantom{-}\\frac{1}{2} \\\\\n",
    "\\phantom{-}0 & \\phantom{-}1 & \\phantom{-}1 & | & -1 \\\\\n",
    "\\phantom{-}0 & \\phantom{-}0 & \\phantom{-}1 & | & -1 \n",
    "\\end{bmatrix}\n",
    "$$\n",
    "\n",
    "Starting from bottom to top:\n",
    "\n",
    "- $R_2$:\n",
    "\n",
    "- -  $R_1 = R_1 - 1 \\cdot R_2 = \\begin{bmatrix} 0 & 1 & 0 & | & 0 \\end{bmatrix}$\n",
    "- - $R_0 = R_0 - \\frac{1}{2} \\cdot R_2 = \\begin{bmatrix} 1 & -1& 0 & | & 1 \\end{bmatrix}$\n",
    "\n",
    "The resulting matrix is then\n",
    "\n",
    "$$\n",
    "M = \n",
    "\\begin{bmatrix} \n",
    "\\phantom{-}1 & -1 & \\phantom{-}0 & | & \\phantom{-}1  \\\\\n",
    "\\phantom{-}0 & \\phantom{-}1 & \\phantom{-}0 & | & \\phantom{-}0 \\\\\n",
    "\\phantom{-}0 & \\phantom{-}0 & \\phantom{-}1 & | & -1 \n",
    "\\end{bmatrix}\n",
    "$$\n",
    "\n",
    "Moving to $R_1$:\n",
    "\n",
    "- $R_1$:\n",
    "\n",
    "- - $R_0 = R_0 - \\left(-1 \\cdot R_1 \\right) = \\begin{bmatrix} 1 & 0 & 0 & | & 1 \\end{bmatrix}$\n",
    "\n",
    "And the final matrix is\n",
    "\n",
    "$$\n",
    "M = \n",
    "\\begin{bmatrix} \n",
    "\\phantom{-}1 & \\phantom{-}0 & \\phantom{-}0 & | & \\phantom{-}1  \\\\\n",
    "\\phantom{-}0 & \\phantom{-}1 & \\phantom{-}0 & | & \\phantom{-}0 \\\\\n",
    "\\phantom{-}0 & \\phantom{-}0 & \\phantom{-}1 & | & -1\n",
    "\\end{bmatrix}\n",
    "$$"
   ]
  },
  {
   "cell_type": "markdown",
   "metadata": {},
   "source": [
    "Note that after back substitution, the solution is just the values in the augmented column! In this case,\n",
    "\n",
    "$$\n",
    "x_0 = 1 \\\\ x_1 =0\\\\ x_2 = -1\n",
    "$$"
   ]
  },
  {
   "cell_type": "markdown",
   "metadata": {},
   "source": [
    "<a name=\"ex02\"></a>\n",
    "### Exercise 2\n",
    "\n",
    "In this exercise you will implement a function to perform back substitution in an **augmented matrix with unique solution and in row echelon form with unitary pivots**"
   ]
  },
  {
   "cell_type": "code",
   "execution_count": 19,
   "metadata": {
    "tags": [
     "graded"
    ]
   },
   "outputs": [],
   "source": [
    "# GRADED FUNCTION: back_substitution\n",
    "\n",
    "def back_substitution(M):\n",
    "    \"\"\"\n",
    "    Perform back substitution on an augmented matrix (with unique solution) in reduced row echelon form to find the solution to the linear system.\n",
    "\n",
    "    Parameters:\n",
    "    - M (numpy.array): The augmented matrix in row echelon form with unitary pivots (n x n+1).\n",
    "\n",
    "    Returns:\n",
    "    numpy.array: The solution vector of the linear system.\n",
    "    \"\"\"\n",
    "    \n",
    "    # Make a copy of the input matrix to avoid modifying the original\n",
    "    M = M.copy()\n",
    "\n",
    "    # Get the number of rows (and columns) in the matrix of coefficients\n",
    "    num_rows = M.shape[0]\n",
    "\n",
    "    ### START CODE HERE ####\n",
    "    \n",
    "    # Iterate from bottom to top\n",
    "    for row in reversed(range(num_rows)): \n",
    "        substitution_row = M[row]\n",
    "\n",
    "        # Get the index of the first non-zero element in the substitution row. Remember to pass the correct value to the argument augmented.\n",
    "        index = np.argmax(substitution_row[:-1] != 0)\n",
    "\n",
    "        # Iterate over the rows above the substitution_row\n",
    "        for j in range(row): \n",
    "\n",
    "            # Get the row to be reduced. The indexing here is similar as above, with the row variable replaced by the j variable.\n",
    "            row_to_reduce = M[j]\n",
    "\n",
    "            # Get the value of the element at the found index in the row to reduce\n",
    "            value = row_to_reduce[index]\n",
    "            \n",
    "            # Perform the back substitution step using the formula row_to_reduce -> row_to_reduce - value * substitution_row\n",
    "            row_to_reduce = row_to_reduce - value * substitution_row\n",
    "\n",
    "            # Replace the updated row in the matrix, be careful with indexing!\n",
    "            M[j,:] = row_to_reduce\n",
    "\n",
    "    ### END CODE HERE ####\n",
    "\n",
    "     # Extract the solution from the last column\n",
    "    solution = M[:,-1]\n",
    "    \n",
    "    return solution\n"
   ]
  },
  {
   "cell_type": "code",
   "execution_count": 20,
   "metadata": {},
   "outputs": [
    {
     "name": "stdout",
     "output_type": "stream",
     "text": [
      "\u001b[92m All tests passed\n"
     ]
    }
   ],
   "source": [
    "w2_unittest.test_back_substitution(back_substitution)"
   ]
  },
  {
   "cell_type": "markdown",
   "metadata": {},
   "source": [
    "<a name=\"6\"></a>\n",
    "## 6 - The Gaussian Elimination\n",
    "\n",
    "<a name=\"6.1\"></a>\n",
    "### 6.1 - Bringing it all together\n",
    "\n",
    "Your task now is to integrate all the steps achieved thus far. Start with a square matrix $A$ of size $ n \\times n$ and a column matrix $B$ of size $n \\times 1$ and transform the augmented matrix $[A | B]$ into reduced row echelon form. Subsequently, verify the existence of solutions. If solutions are present, proceed to perform back substitution to obtain the values. In scenarios where there are no solutions or an infinite number of solutions, handle and indicate these outcomes accordingly."
   ]
  },
  {
   "cell_type": "markdown",
   "metadata": {},
   "source": [
    "<a name=\"ex03\"></a>\n",
    "### Exercise 3\n",
    "\n",
    "In this exercise you will combine every function you just wrote to finish the Gaussian Elimination algorithm."
   ]
  },
  {
   "cell_type": "code",
   "execution_count": 21,
   "metadata": {
    "tags": [
     "graded"
    ]
   },
   "outputs": [],
   "source": [
    "# GRADED FUNCTION: gaussian_elimination\n",
    "\n",
    "def gaussian_elimination(A, B):\n",
    "    \"\"\"\n",
    "    Solve a linear system represented by an augmented matrix using the Gaussian elimination method.\n",
    "\n",
    "    Parameters:\n",
    "    - A (numpy.array): Square matrix of size n x n representing the coefficients of the linear system\n",
    "    - B (numpy.array): Column matrix of size 1 x n representing the constant terms.\n",
    "\n",
    "    Returns:\n",
    "    numpy.array or str: The solution vector if a unique solution exists, or a string indicating the type of solution.\n",
    "    \"\"\"\n",
    "\n",
    "    ### START CODE HERE ###\n",
    "\n",
    "    # Get the matrix in row echelon form\n",
    "    row_echelon_M = row_echelon_form(A, B)\n",
    "\n",
    "    # If the system is non-singular, then perform back substitution to get the result. \n",
    "    # Since the function row_echelon_form returns a string if there is no solution, let's check for that.\n",
    "    # The function isinstance checks if the first argument has the type as the second argument, returning True if it does and False otherwise.\n",
    "    if not isinstance(row_echelon_M, str): \n",
    "        solution = back_substitution(row_echelon_M)\n",
    "    else:\n",
    "        solution = row_echelon_M\n",
    "\n",
    "    ### END SOLUTION HERE ###\n",
    "\n",
    "    return solution\n",
    "        \n",
    "    "
   ]
  },
  {
   "cell_type": "code",
   "execution_count": 22,
   "metadata": {},
   "outputs": [
    {
     "name": "stdout",
     "output_type": "stream",
     "text": [
      "\u001b[92m All tests passed\n"
     ]
    }
   ],
   "source": [
    "w2_unittest.test_gaussian_elimination(gaussian_elimination)"
   ]
  },
  {
   "cell_type": "markdown",
   "metadata": {},
   "source": [
    "<a name=\"7\"></a>\n",
    "## 7 - Test with any system of equations!\n",
    "\n",
    "The code below will allow you to write any equation in the format it is given below (any unknown lower case variables are accepted, in any order) and transform it in its respective augmented matrix so you can solve it using the functions you just wrote in this assignment!\n",
    "\n",
    "You just need to change the equations variable, always keeping * to indicate product between unknowns and variables and one equation in each line!"
   ]
  },
  {
   "cell_type": "code",
   "execution_count": 23,
   "metadata": {},
   "outputs": [],
   "source": [
    "from utils import string_to_augmented_matrix"
   ]
  },
  {
   "cell_type": "code",
   "execution_count": 24,
   "metadata": {},
   "outputs": [
    {
     "name": "stdout",
     "output_type": "stream",
     "text": [
      "x = -1.5414\n",
      "y = -0.5223\n",
      "w = -0.1210\n",
      "z = 1.1855\n"
     ]
    }
   ],
   "source": [
    "equations = \"\"\"\n",
    "3*x + 6*y + 6*w + 8*z = 1\n",
    "5*x + 3*y + 6*w = -10\n",
    "4*y - 5*w + 8*z = 8\n",
    "4*w + 8*z = 9\n",
    "\"\"\"\n",
    "\n",
    "variables, A, B = string_to_augmented_matrix(equations)\n",
    "\n",
    "sols = gaussian_elimination(A, B)\n",
    "\n",
    "if not isinstance(sols, str):\n",
    "    for variable, solution in zip(variables.split(' '),sols):\n",
    "        print(f\"{variable} = {solution:.4f}\")\n",
    "else:\n",
    "    print(sols)"
   ]
  },
  {
   "cell_type": "markdown",
   "metadata": {},
   "source": [
    "Congratulations! You have finished the first assignment of this course! You built from scratch a linear system solver!"
   ]
  }
 ],
 "metadata": {
  "grader_version": "2",
  "kernelspec": {
   "display_name": "Python 3 (ipykernel)",
   "language": "python",
   "name": "python3"
  },
  "language_info": {
   "codemirror_mode": {
    "name": "ipython",
    "version": 3
   },
   "file_extension": ".py",
   "mimetype": "text/x-python",
   "name": "python",
   "nbconvert_exporter": "python",
   "pygments_lexer": "ipython3",
   "version": "3.11.9"
  }
 },
 "nbformat": 4,
 "nbformat_minor": 4
}
