{
 "cells": [
  {
   "cell_type": "markdown",
   "metadata": {
    "id": "NbHgrZs86Y6e"
   },
   "source": [
    "# Exploratory Data Analysis - Understanding Your Dataset\n",
    "\n",
    "Welcome to the second notebook of the exploratory data analysis (EDA) series, where you will get your hands dirty applying the skills you have learned in the course on an actual data problem, similar to those you might encouter in real life! This is a part of a series, which contains five notebooks, each of them placed on different weeks of this course. There is very little mathematics instruction in these notebooks, but rather practical implementations of the concepts you learned using various python libraries.\n",
    "\n",
    "For this notebook you will use the data on ridesharing in the year 2022 in the city of Chicago, which can be found [here](https://data.cityofchicago.org/Transportation/Transportation-Network-Providers-Trips/m6dm-c72p/data).\n",
    "\n",
    "We have already downloaded the dataset for you and put it in the folder together with this notebook. If you check the link above, you might notice that the dataset includes hundreds of millions of rows. This translates to tens of gigabytes and is too large for working in this environment. That's why the dataset has been preprocessed to include only the data from 2022 and downsampled by a factor of 100 to easily fit into the environment and make your experience more pleasant.\n",
    "\n",
    "In this notebook you will mostly use the Pandas library. If you are not familiar with it, you can check out the Pandas tutorial notebook.\n",
    "\n",
    "### Learning Objectives:\n",
    "In this notebook you will use the following concepts from the course in a practical setting:\n",
    " - Probability\n",
    " - Conditional probability\n",
    " - Distributions\n"
   ]
  },
  {
   "cell_type": "markdown",
   "metadata": {
    "id": "CmlrVEnd6Y6h"
   },
   "source": [
    "# 1. Import the Python Libraries\n",
    "\n",
    "As usual, the first thing you need to do is import the libraries that you will use in this notebook. `pandas` will help you load and manipulate data, while `matplotlib` will be used for plottting."
   ]
  },
  {
   "cell_type": "code",
   "execution_count": null,
   "metadata": {
    "id": "OD7tmLwb6Y6j"
   },
   "outputs": [],
   "source": [
    "import pandas as pd\n",
    "import matplotlib.pyplot as plt"
   ]
  },
  {
   "cell_type": "markdown",
   "metadata": {
    "id": "P-0D8VcV6Y6o"
   },
   "source": [
    "# 2. Load the Dataset\n",
    "\n",
    "The next step is to load the dataset. The dataset has been downsampled by a factor of 100 to work smoothly in this environment."
   ]
  },
  {
   "cell_type": "code",
   "execution_count": null,
   "metadata": {
    "id": "cFkYnbP66Y6o"
   },
   "outputs": [],
   "source": [
    "# Open the dataset\n",
    "df = pd.read_csv(\"data/rideshare_2022.csv\", parse_dates=['Trip Start Timestamp', 'Trip End Timestamp'])\n",
    "\n",
    "# Show the first five rows of the dataset\n",
    "df.head()"
   ]
  },
  {
   "cell_type": "markdown",
   "metadata": {
    "id": "3a5MEJiA6Y6z"
   },
   "source": [
    "# 3 Explore the Dataset\n",
    "\n",
    "In the cell above, you have opened the dataset and displayed the first five rows. Have a closer look at the output of the cell above. The dataset consists of the following columns:\n",
    "\n",
    "- `Trip ID`: A unique identifier for the trip.\n",
    "\n",
    "\n",
    "- `Trip Start Timestamp`: When the trip started, rounded to the nearest 15 minutes.\n",
    "\n",
    "\n",
    "- `Trip End Timestamp`: When the trip ended, rounded to the nearest 15 minutes.\n",
    "\n",
    "\n",
    "- `Trip Seconds`: Time of the trip in seconds.\n",
    "\n",
    "\n",
    "- `Trip Miles`: Distance of the trip in miles.\n",
    "\n",
    "\n",
    "- `Pickup Census Tract`: The Census Tract where the trip began. This column often will be blank for locations outside Chicago.\n",
    "\n",
    "\n",
    "- `Dropoff Census Tract`: The Census Tract where the trip ended. This column often will be blank for locations outside Chicago.\n",
    "\n",
    "\n",
    "- `Pickup Community Area`: The Community Area where the trip began. This column will be blank for locations outside Chicago.\n",
    "\n",
    "\n",
    "- `Dropoff Community Area`: The Community Area where the trip ended. This column will be blank for locations outside Chicago.\n",
    "\n",
    "\n",
    "- `Fare`: The fare for the trip, rounded to the nearest $2.50. \n",
    "\n",
    "\n",
    "- `Tip`: The tip for the trip, rounded to the nearest $1.00. Cash tips will not be recorded.\n",
    "\n",
    "\n",
    "- `Additional Charges`: The taxes, fees, and any other charges for the trip.\n",
    "\n",
    "\n",
    "- `Trip Total`: Total cost of the trip. This is calculated as the total of the previous columns, including rounding.\n",
    "\n",
    "\n",
    "- `Shared Trip Authorized`: Whether the customer agreed to a shared trip with another customer, regardless of whether the customer was actually matched for a shared trip.\n",
    "\n",
    "\n",
    "- `Trips Pooled`: If customers were matched for a shared trip, how many trips, including this one, were pooled. All customer trips from the time the vehicle was empty until it was empty again contribute to this count, even if some customers were never present in the vehicle at the same time. Each trip making up the overall shared trip will have a separate record in this dataset, with the same value in this column.\n",
    "\n",
    "\n",
    "- `Pickup Centroid Latitude`: The latitude of the center of the pickup census tract or the community area if the census tract has been hidden for privacy. This column often will be blank for locations outside Chicago.\n",
    "\n",
    "\n",
    "- `Pickup Centroid Longitude`: The longitude of the center of the pickup census tract or the community area if the census tract has been hidden for privacy. This column often will be blank for locations outside Chicago.\n",
    "\n",
    "\n",
    "- `Pickup Centroid Location`: The location of the center of the pickup census tract or the community area if the census tract has been hidden for privacy. This column often will be blank for locations outside Chicago.\n",
    "\n",
    "\n",
    "- `Dropoff Centroid Latitude`: The latitude of the center of the dropoff census tract or the community area if the census tract has been hidden for privacy. This column often will be blank for locations outside Chicago.\n",
    "\n",
    "\n",
    "- `Dropoff Centroid Longitude`: The longitude of the center of the dropoff census tract or the community area if the census tract has been hidden for privacy. This column often will be blank for locations outside Chicago.\n",
    "\n",
    "\n",
    "- `Dropoff Centroid Location`: The location of the center of the dropoff census tract or the community area if the census tract has been hidden for privacy. This column often will be blank for locations outside Chicago.\n",
    "\n",
    "\n",
    "Run the cell below to print out the column names and inspect the number of non-null values and the data type of each column. "
   ]
  },
  {
   "cell_type": "code",
   "execution_count": null,
   "metadata": {
    "id": "Hgsc-THO6Y67"
   },
   "outputs": [],
   "source": [
    "df.info()"
   ]
  },
  {
   "cell_type": "markdown",
   "metadata": {
    "id": "SwblIuyEzaB9"
   },
   "source": [
    "## 3.1 Select columns of interest\n",
    "\n",
    "At this point, you have seen what the dataset looks like. Take a moment to think of your next steps. Which columns would you explore further? Is there a column that has a problematic number of null values? Are there any columns that you are not interested in?\n",
    "\n",
    "For exploratory data analysis it is perfectly fine to select only the columns that you are interested in and drop the remainder. This will not only make your dataframe easier to work with, but also reduce its size, making your operations faster.\n",
    "\n",
    "In the cell below you will select a subset of the columns, which are the ones you will be interested in for this notebook. If you keep only the columns that are pre-selected in the cell below, you will reduce the file size by about a half. This can make a difference of whether you can fit the file into the memory or not, especially with larger files. This code will also rename the columns to remove white spaces."
   ]
  },
  {
   "cell_type": "code",
   "execution_count": null,
   "metadata": {},
   "outputs": [],
   "source": [
    "columns_of_interest = ['Trip Start Timestamp', 'Trip Seconds',\n",
    "       'Trip Miles', 'Fare', 'Tip', 'Additional Charges', 'Trip Total', 'Shared Trip Authorized',\n",
    "       'Trips Pooled', 'Pickup Centroid Latitude', 'Pickup Centroid Longitude', 'Dropoff Centroid Latitude',\n",
    "       'Dropoff Centroid Longitude']\n",
    "\n",
    "df = df[columns_of_interest]\n",
    "\n",
    "# Rename all the columns to not include whitespace\n",
    "df = df.rename(columns={i: \"_\".join(i.split(\" \")).lower() for i in df.columns})\n",
    "\n",
    "# Check the info on the cleaned-up dataset\n",
    "df.info()"
   ]
  },
  {
   "cell_type": "markdown",
   "metadata": {
    "id": "zG8VrKgjqxZY"
   },
   "source": [
    "# 4. Visualize the data\n",
    "\n",
    "To understand the data better, it often makes sense to visualize it. This helps you understand how the data is distributed. You can start by plotting the number of rides in a given day. For this it would be useful to have another column that just contains the date. The code in the cell below will create a new column which takes the `trip_start_timestamp` and converts it into a date."
   ]
  },
  {
   "cell_type": "code",
   "execution_count": null,
   "metadata": {},
   "outputs": [],
   "source": [
    "df['date'] = pd.to_datetime(df['trip_start_timestamp'].dt.date)\n",
    "\n",
    "df.head()"
   ]
  },
  {
   "cell_type": "code",
   "execution_count": null,
   "metadata": {
    "id": "ES0VTQgy6Y7Q",
    "scrolled": true
   },
   "outputs": [],
   "source": [
    "# Select the column which you want to plot.\n",
    "column_to_plot = 'date'\n",
    "\n",
    "# Plot the histogram of the desired column\n",
    "df.hist(column_to_plot, density=True)"
   ]
  },
  {
   "cell_type": "markdown",
   "metadata": {},
   "source": [
    "What you have plotted above is the distribution of the rides throughout the year. Note the code above also set the `dentsity=True`. This is so that the histogram is scaled to look like a probability density function like the ones you saw on Lesson 2. This means scaling the plot so that the area of the bars equals 1. What does this distribution look like to you? Is it similar to any of the distributions you saw in the videos? \n",
    "\n",
    "Although the distribution is slightly smaller for earlier dates, you could probably say that the rides are quite uniformly distributed throughout the year. Just note that this is not the actual distribution of the dates of cab rides, but rather an estimate based on the observations you have. Since this is real-world data, there are some fluctuations.\n",
    "\n",
    "Now change the `column_to_plot` variable above to some other column name to observe the distributions of other variables. Some interesting ones might be `fare`, `tip` or `trip_length`. These variables can tell you how far drivers have to drive and how much they are getting paid for it.\n",
    "\n",
    "Lets look together at the `tip` column."
   ]
  },
  {
   "cell_type": "code",
   "execution_count": null,
   "metadata": {},
   "outputs": [],
   "source": [
    "# Select the column which you want to plot.\n",
    "column_to_plot = 'tip'\n",
    "\n",
    "# Plot the histogram of the desired column\n",
    "df.hist(column_to_plot, density=True, bins = 100);"
   ]
  },
  {
   "cell_type": "markdown",
   "metadata": {
    "id": "B-T11ts_sGjq"
   },
   "source": [
    "What can you say about the distribution of tips? This one looks a bit weird, right? What could explain this strange distribution? What do you think the large bar on the left corresponds to?\n",
    "\n",
    "What is actually happening here is that the majority of the people do not tip, and that's why you see a large bar at tip = 0. \n",
    "\n",
    "Based on the data, you can calculate the probability of the customer tipping. You can do this by simply calculating the proportion of customers that actually tipped from the total number of rides."
   ]
  },
  {
   "cell_type": "code",
   "execution_count": null,
   "metadata": {},
   "outputs": [],
   "source": [
    "# Create a boolean series that distinguishes between tippers and no-tippers\n",
    "tippers = df['tip'] > 0\n",
    "# Count the number of tippers\n",
    "number_of_tippers = tippers.sum()\n",
    "# Count the total number of rides\n",
    "total_rides = len(df)\n",
    "\n",
    "# Calculate the fraction of people who tip\n",
    "fraction_of_tippers = number_of_tippers / total_rides\n",
    "print(f'The percentage of riders who tip is {fraction_of_tippers*100:.0f}%.')"
   ]
  },
  {
   "cell_type": "markdown",
   "metadata": {},
   "source": [
    "In the next cell you will create a new dataframe, where you will remove the non-tippers (the ones who gave a tip of zero). Then you can replot the histogram and see how it looks without the large bar at tip = 0."
   ]
  },
  {
   "cell_type": "code",
   "execution_count": null,
   "metadata": {
    "id": "8FN5aUIuvCzN"
   },
   "outputs": [],
   "source": [
    "# Create a dataframe That only consists of tippers (conditioned on the boolean series)\n",
    "df_tippers = df[tippers]\n",
    "\n",
    "# Now re-plot the above histogram, but only for tippers\n",
    "df_tippers.hist('tip', density=True, bins = 100);"
   ]
  },
  {
   "cell_type": "markdown",
   "metadata": {
    "id": "wdDhD8Sv7_LS"
   },
   "source": [
    "You can see now that the distribution got a much more interesting shape. What you are actually doing here is conditioning the original variable `tip`. You are ploting the distribution of tips given that a tip was actually given, or given that `tip>0` if you want it in mathematical terms. In other words, you are discarding part of your data, where `tip=0`, and finding the distribution of the remaining data.\n",
    "\n",
    "# 5. Split the Data Into Interesting Subsets\n",
    "\n",
    "The next thing you can check is if you can create any subsets of data and have a look at conditional distributions over these subsets. For example, you might be interested, to know whether there are more rides on the weekend than during the week, or if people tip more on weekends. This can help you figure out whether there are any differences in demand during the week and helps you adjust the supply of drivers.\n",
    "\n",
    "For this you will first create a new column called `weekday`, where you will store the information on the day of the week."
   ]
  },
  {
   "cell_type": "code",
   "execution_count": null,
   "metadata": {},
   "outputs": [],
   "source": [
    "# Extracting the day of the week is simple when you have it in datetime format.\n",
    "df['weekday'] = df[\"date\"].dt.day_name()\n",
    "\n",
    "df.head()"
   ]
  },
  {
   "cell_type": "markdown",
   "metadata": {},
   "source": [
    "Now you can count the number of riders on a given day of the week."
   ]
  },
  {
   "cell_type": "code",
   "execution_count": null,
   "metadata": {},
   "outputs": [],
   "source": [
    "# Count the number of rides each day\n",
    "daily_ride_counts = df['weekday'].value_counts()\n",
    "\n",
    "# List of weekdays. You will use it to reorder the counts, as they are in random order.\n",
    "WEEKDAYS = ['Monday', 'Tuesday', 'Wednesday', 'Thursday', 'Friday', 'Saturday', 'Sunday']\n",
    "\n",
    "# Reorder the series given weekdays\n",
    "daily_ride_counts = daily_ride_counts.reindex(WEEKDAYS)\n",
    "\n",
    "daily_ride_counts"
   ]
  },
  {
   "cell_type": "markdown",
   "metadata": {},
   "source": [
    "And in the same manner, you will calculate the number of tippers on a given day of the week."
   ]
  },
  {
   "cell_type": "code",
   "execution_count": null,
   "metadata": {},
   "outputs": [],
   "source": [
    "df_tippers = df[df['tip'] > 0]\n",
    "# Count the number of tips given each day\n",
    "daily_tippers_counts = df_tippers['weekday'].value_counts()\n",
    "\n",
    "# Reorder the series given weekdays\n",
    "daily_tippers_counts = daily_tippers_counts.reindex(WEEKDAYS)\n",
    "\n",
    "daily_tippers_counts"
   ]
  },
  {
   "cell_type": "markdown",
   "metadata": {},
   "source": [
    "Now you can calculate the percentage of customers tipping on each day of the week."
   ]
  },
  {
   "cell_type": "code",
   "execution_count": null,
   "metadata": {},
   "outputs": [],
   "source": [
    "df_daily_aggregation = pd.concat([daily_ride_counts, daily_tippers_counts], axis=1, keys=['ride_count', 'tippers_count'])\n",
    "df_daily_aggregation[\"tips_percentage\"] = df_daily_aggregation['tippers_count'] / df_daily_aggregation['ride_count'] * 100\n",
    "\n",
    "df_daily_aggregation"
   ]
  },
  {
   "cell_type": "markdown",
   "metadata": {
    "id": "KslfM9UE9MTe"
   },
   "source": [
    "What you have just calculated are conditional probabilities: What is the probability of someone tipping, given a certain day of the week? Or if you write it with an equation: $ P(tip|weekday) $.\n",
    "Now you can have another look at the numbers and see if there are some important insights!\n",
    "\n",
    "You can see that there are significantly more rides on Fridays and Saturdays than on the other days of the week, however the percentage of the tippers does not change much.\n",
    "\n",
    "You can use the cell below to save your modified dataframe. You dont need to do that, as the dataframe for the next lab is already provided."
   ]
  },
  {
   "cell_type": "code",
   "execution_count": null,
   "metadata": {},
   "outputs": [],
   "source": [
    "# Uncomment the line below if you want to save your dataframe.\n",
    "# df.to_csv(\"data/rideshare_2022_user.csv\", index=False)"
   ]
  },
  {
   "cell_type": "markdown",
   "metadata": {},
   "source": [
    "**Congratulations on finishing this lab.** You have used the implementation of quite a few concepts covered in this course: probabilities, distributions and conditional probabilities. On top of that you have practiced Pandas a little bit. If you liked this exercise, look out for another similar notebook next week!"
   ]
  }
 ],
 "metadata": {
  "colab": {
   "private_outputs": true,
   "provenance": []
  },
  "kernelspec": {
   "display_name": "Python 3 (ipykernel)",
   "language": "python",
   "name": "python3"
  },
  "language_info": {
   "codemirror_mode": {
    "name": "ipython",
    "version": 3
   },
   "file_extension": ".py",
   "mimetype": "text/x-python",
   "name": "python",
   "nbconvert_exporter": "python",
   "pygments_lexer": "ipython3",
   "version": "3.11.9"
  }
 },
 "nbformat": 4,
 "nbformat_minor": 4
}
